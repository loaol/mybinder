import numpy as np
import matplotlib.pyplot as plt

def iterative(lam,n,x0):
    x=np.zeros(n+1)
    x[0]=x0
    f=lambda x: lam*x*(1-x)
    for i in range(1,n+1):
        x[i]=f(x[i-1])
    return x
    
# creat sense
x=np.linspace(0,1,101)
y=x-x*(1-x)
plt.plot(x,y)

# set nums
lam=1
n=100
x0=0.5

yy=iterative(lam,n,x0)
plt.plot(yy[0:n-1],yy[1:n])
plt.plot(x,y)
